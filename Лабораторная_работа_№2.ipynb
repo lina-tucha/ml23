{
  "nbformat": 4,
  "nbformat_minor": 0,
  "metadata": {
    "colab": {
      "provenance": []
    },
    "kernelspec": {
      "name": "python3",
      "display_name": "Python 3"
    },
    "language_info": {
      "name": "python"
    }
  },
  "cells": [
    {
      "cell_type": "markdown",
      "source": [
        "# Глобальная оптимизация и метаэврестические алгоритмы\n",
        "### В Pygmo запрогроммировать две своих тестовых функции и найти их оптимум 3 разными алгоритмами доступными в библиотеке и получить таблицу сравнения"
      ],
      "metadata": {
        "id": "w7lppul6GvZ8"
      }
    },
    {
      "cell_type": "markdown",
      "source": [
        "https://esa.github.io/pygmo2/tutorials/evolving_a_population.html\n",
        "\n",
        "https://esa.github.io/pygmo/documentation/problems.html\n",
        "\n",
        "https://ru.wikipedia.org/wiki/%D0%A2%D0%B5%D1%81%D1%82%D0%BE%D0%B2%D1%8B%D0%B5_%D1%84%D1%83%D0%BD%D0%BA%D1%86%D0%B8%D0%B8_%D0%B4%D0%BB%D1%8F_%D0%BE%D0%BF%D1%82%D0%B8%D0%BC%D0%B8%D0%B7%D0%B0%D1%86%D0%B8%D0%B8"
      ],
      "metadata": {
        "id": "i4HMFmwY10eA"
      }
    },
    {
      "cell_type": "code",
      "execution_count": null,
      "metadata": {
        "colab": {
          "base_uri": "https://localhost:8080/"
        },
        "id": "SID0iTsseiKr",
        "outputId": "2a832b6d-4e9c-4a3f-8c17-b6ecbfad85af"
      },
      "outputs": [
        {
          "output_type": "stream",
          "name": "stdout",
          "text": [
            "Collecting pygmo\n",
            "  Downloading pygmo-2.19.5-cp310-cp310-manylinux_2_28_x86_64.whl (14.7 MB)\n",
            "\u001b[2K     \u001b[90m━━━━━━━━━━━━━━━━━━━━━━━━━━━━━━━━━━━━━━━━\u001b[0m \u001b[32m14.7/14.7 MB\u001b[0m \u001b[31m52.0 MB/s\u001b[0m eta \u001b[36m0:00:00\u001b[0m\n",
            "\u001b[?25hRequirement already satisfied: numpy in /usr/local/lib/python3.10/dist-packages (from pygmo) (1.23.5)\n",
            "Requirement already satisfied: cloudpickle in /usr/local/lib/python3.10/dist-packages (from pygmo) (2.2.1)\n",
            "Requirement already satisfied: scipy in /usr/local/lib/python3.10/dist-packages (from pygmo) (1.11.4)\n",
            "Installing collected packages: pygmo\n",
            "Successfully installed pygmo-2.19.5\n"
          ]
        }
      ],
      "source": [
        "pip install pygmo"
      ]
    },
    {
      "cell_type": "code",
      "source": [
        "import pygmo as pg\n",
        "import numpy as np\n",
        "from tabulate import tabulate"
      ],
      "metadata": {
        "id": "cjRQFdVYsztp"
      },
      "execution_count": null,
      "outputs": []
    },
    {
      "cell_type": "code",
      "source": [
        "class BootFunction:\n",
        "\n",
        "  def __init__(self, x_min, x_max, y_min, y_max):\n",
        "    self.x_min = x_min\n",
        "    self.x_max = x_max\n",
        "    self.y_min = y_min\n",
        "    self.y_max = y_max\n",
        "\n",
        "  def fitness(self, x: list) -> float:\n",
        "    res = (x[0] + 2.0 * x[1] - 7.0) ** 2 + (2.0 * x[0] + x[1] - 5.0) ** 2\n",
        "    return [res]\n",
        "\n",
        "  def get_bounds(self):\n",
        "    return ([self.x_min, self.y_min], [self.x_max, self.y_max])"
      ],
      "metadata": {
        "id": "eAWg0KhJr1o5"
      },
      "execution_count": null,
      "outputs": []
    },
    {
      "cell_type": "code",
      "source": [
        "class BukinN6Function:\n",
        "\n",
        "  def __init__(self, x_min, x_max, y_min, y_max):\n",
        "    self.x_min = x_min\n",
        "    self.x_max = x_max\n",
        "    self.y_min = y_min\n",
        "    self.y_max = y_max\n",
        "\n",
        "  def fitness(self, x: list):\n",
        "    return [100 * np.sqrt(abs(x[1] - 0.01 * x[0] ** 2)) - 0.01 * abs(x[0] + 10)]\n",
        "\n",
        "  def get_bounds(self):\n",
        "    return ([self.x_min, self.y_min], [self.x_max, self.y_max])"
      ],
      "metadata": {
        "id": "zmGyOE7QtILI"
      },
      "execution_count": null,
      "outputs": []
    },
    {
      "cell_type": "code",
      "source": [
        "prob_boot = pg.problem(BootFunction(-10.0, 10.0, -10.0, 10.0))\n",
        "print(prob_boot)"
      ],
      "metadata": {
        "colab": {
          "base_uri": "https://localhost:8080/"
        },
        "id": "0NH2IZg5t6r6",
        "outputId": "b0622b00-12c5-4b5e-9199-45069af968d5"
      },
      "execution_count": null,
      "outputs": [
        {
          "output_type": "stream",
          "name": "stdout",
          "text": [
            "Problem name: <class '__main__.BootFunction'>\n",
            "\tC++ class name: pybind11::object\n",
            "\n",
            "\tGlobal dimension:\t\t\t2\n",
            "\tInteger dimension:\t\t\t0\n",
            "\tFitness dimension:\t\t\t1\n",
            "\tNumber of objectives:\t\t\t1\n",
            "\tEquality constraints dimension:\t\t0\n",
            "\tInequality constraints dimension:\t0\n",
            "\tLower bounds: [-10, -10]\n",
            "\tUpper bounds: [10, 10]\n",
            "\tHas batch fitness evaluation: false\n",
            "\n",
            "\tHas gradient: false\n",
            "\tUser implemented gradient sparsity: false\n",
            "\tHas hessians: false\n",
            "\tUser implemented hessians sparsity: false\n",
            "\n",
            "\tFitness evaluations: 0\n",
            "\n",
            "\tThread safety: none\n",
            "\n"
          ]
        }
      ]
    },
    {
      "cell_type": "code",
      "source": [
        "prob_bukin_N6 = pg.problem(BukinN6Function(-15.0, -5.0, -3.0, 3.0))\n",
        "print(prob_bukin_N6)"
      ],
      "metadata": {
        "colab": {
          "base_uri": "https://localhost:8080/"
        },
        "id": "uFDh6go5uZRl",
        "outputId": "a0b21138-e206-463c-a8a7-0dc139eae2fa"
      },
      "execution_count": null,
      "outputs": [
        {
          "output_type": "stream",
          "name": "stdout",
          "text": [
            "Problem name: <class '__main__.BukinN6Function'>\n",
            "\tC++ class name: pybind11::object\n",
            "\n",
            "\tGlobal dimension:\t\t\t2\n",
            "\tInteger dimension:\t\t\t0\n",
            "\tFitness dimension:\t\t\t1\n",
            "\tNumber of objectives:\t\t\t1\n",
            "\tEquality constraints dimension:\t\t0\n",
            "\tInequality constraints dimension:\t0\n",
            "\tLower bounds: [-15, -3]\n",
            "\tUpper bounds: [-5, 3]\n",
            "\tHas batch fitness evaluation: false\n",
            "\n",
            "\tHas gradient: false\n",
            "\tUser implemented gradient sparsity: false\n",
            "\tHas hessians: false\n",
            "\tUser implemented hessians sparsity: false\n",
            "\n",
            "\tFitness evaluations: 0\n",
            "\n",
            "\tThread safety: none\n",
            "\n"
          ]
        }
      ]
    },
    {
      "cell_type": "code",
      "source": [
        "pop_boot = pg.population(prob_boot, size = 1000)"
      ],
      "metadata": {
        "id": "g0KAgN-2wQif"
      },
      "execution_count": null,
      "outputs": []
    },
    {
      "cell_type": "code",
      "source": [
        "pop_bukin = pg.population(prob_bukin_N6, size = 1000)"
      ],
      "metadata": {
        "id": "gpDbpctvzxhS"
      },
      "execution_count": null,
      "outputs": []
    },
    {
      "cell_type": "code",
      "source": [
        "algo1 = pg.algorithm(pg.sade(gen = 20))"
      ],
      "metadata": {
        "id": "PSXqdnEiz7sq"
      },
      "execution_count": null,
      "outputs": []
    },
    {
      "cell_type": "code",
      "source": [
        "algo2 = pg.algorithm(pg.gaco(gen = 20))"
      ],
      "metadata": {
        "id": "75ELFu000Uue"
      },
      "execution_count": null,
      "outputs": []
    },
    {
      "cell_type": "code",
      "source": [
        "algo3 = pg.algorithm(pg.gwo(gen = 20))"
      ],
      "metadata": {
        "id": "2Z07g5m50WHR"
      },
      "execution_count": null,
      "outputs": []
    },
    {
      "cell_type": "code",
      "source": [
        "pop_boot1 = algo1.evolve(pop_boot)\n",
        "pop_boot2 = algo2.evolve(pop_boot)\n",
        "pop_boot3 = algo3.evolve(pop_boot)"
      ],
      "metadata": {
        "id": "dGIs63uO9tD6"
      },
      "execution_count": null,
      "outputs": []
    },
    {
      "cell_type": "code",
      "source": [
        "pop_bukin1 = algo1.evolve(pop_bukin)\n",
        "pop_bukin2 = algo2.evolve(pop_bukin)\n",
        "pop_bukin3 = algo3.evolve(pop_bukin)"
      ],
      "metadata": {
        "id": "c2lcRrux96xD"
      },
      "execution_count": null,
      "outputs": []
    },
    {
      "cell_type": "code",
      "source": [
        "best_fitness_boot1 = pop_boot1.get_f()[pop_boot1.best_idx()]\n",
        "best_fitness_boot2 = pop_boot2.get_f()[pop_boot2.best_idx()]\n",
        "best_fitness_boot3 = pop_boot3.get_f()[pop_boot3.best_idx()]"
      ],
      "metadata": {
        "id": "cP239CuS-bX1"
      },
      "execution_count": null,
      "outputs": []
    },
    {
      "cell_type": "code",
      "source": [
        "data = [[best_fitness_boot1, best_fitness_boot2, best_fitness_boot3, 0.0]]\n",
        "head = [\"Algo Sade\", \"Algo gaco\", \"Algo gwo\", \"Min function\"]\n",
        "print(tabulate(data, headers=head, tablefmt=\"grid\"))"
      ],
      "metadata": {
        "colab": {
          "base_uri": "https://localhost:8080/"
        },
        "id": "e296GbfnCwc-",
        "outputId": "140d2259-1069-431d-bf4e-e8902b9b1d35"
      },
      "execution_count": null,
      "outputs": [
        {
          "output_type": "stream",
          "name": "stdout",
          "text": [
            "+-------------+-------------+-------------+----------------+\n",
            "|   Algo Sade |   Algo gaco |    Algo gwo |   Min function |\n",
            "+=============+=============+=============+================+\n",
            "| 2.54346e-06 | 2.78274e-06 | 6.14472e-07 |              0 |\n",
            "+-------------+-------------+-------------+----------------+\n"
          ]
        },
        {
          "output_type": "stream",
          "name": "stderr",
          "text": [
            "/usr/local/lib/python3.10/dist-packages/tabulate/__init__.py:107: FutureWarning: elementwise comparison failed; returning scalar instead, but in the future will perform elementwise comparison\n",
            "  (len(row) >= 1 and row[0] == SEPARATING_LINE)\n",
            "/usr/local/lib/python3.10/dist-packages/tabulate/__init__.py:108: FutureWarning: elementwise comparison failed; returning scalar instead, but in the future will perform elementwise comparison\n",
            "  or (len(row) >= 2 and row[1] == SEPARATING_LINE)\n"
          ]
        }
      ]
    },
    {
      "cell_type": "code",
      "source": [
        "best_fitness_bukin1 = pop_bukin1.get_f()[pop_bukin1.best_idx()]\n",
        "best_fitness_bukin2 = pop_bukin2.get_f()[pop_bukin2.best_idx()]\n",
        "best_fitness_bukin3 = pop_bukin3.get_f()[pop_bukin3.best_idx()]"
      ],
      "metadata": {
        "id": "y4FQATir-uDK"
      },
      "execution_count": null,
      "outputs": []
    },
    {
      "cell_type": "code",
      "source": [
        "data = [[best_fitness_bukin1, best_fitness_bukin2, best_fitness_bukin3, 0.0]]\n",
        "head = [\"Algo Sade\", \"Algo gaco\", \"Algo gwo\", \"Min function\"]\n",
        "print(tabulate(data, headers=head, tablefmt=\"grid\"))"
      ],
      "metadata": {
        "colab": {
          "base_uri": "https://localhost:8080/"
        },
        "id": "n7DYZIuQDYt_",
        "outputId": "ce1ae926-f564-4851-9c64-5990d7fedf71"
      },
      "execution_count": null,
      "outputs": [
        {
          "output_type": "stream",
          "name": "stdout",
          "text": [
            "+-------------+-------------+------------+----------------+\n",
            "|   Algo Sade |   Algo gaco |   Algo gwo |   Min function |\n",
            "+=============+=============+============+================+\n",
            "|   0.0855791 |    0.517321 |    2.75589 |              0 |\n",
            "+-------------+-------------+------------+----------------+\n"
          ]
        }
      ]
    }
  ]
}